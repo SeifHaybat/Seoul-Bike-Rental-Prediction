{
 "cells": [
  {
   "cell_type": "markdown",
   "id": "cdd856ea",
   "metadata": {
    "papermill": {
     "duration": 0.035843,
     "end_time": "2021-08-30T15:22:45.238429",
     "exception": false,
     "start_time": "2021-08-30T15:22:45.202586",
     "status": "completed"
    },
    "tags": []
   },
   "source": [
    "# Seoul Bike Rental Prediction"
   ]
  },
  {
   "cell_type": "markdown",
   "id": "be5ac390",
   "metadata": {
    "papermill": {
     "duration": 0.034376,
     "end_time": "2021-08-30T15:22:45.310233",
     "exception": false,
     "start_time": "2021-08-30T15:22:45.275857",
     "status": "completed"
    },
    "tags": []
   },
   "source": [
    "# Import libraries"
   ]
  },
  {
   "cell_type": "code",
   "execution_count": 1,
   "id": "48624339",
   "metadata": {
    "execution": {
     "iopub.execute_input": "2021-08-30T15:22:45.384976Z",
     "iopub.status.busy": "2021-08-30T15:22:45.383759Z",
     "iopub.status.idle": "2021-08-30T15:22:46.775781Z",
     "shell.execute_reply": "2021-08-30T15:22:46.775009Z",
     "shell.execute_reply.started": "2021-08-30T15:20:56.979575Z"
    },
    "papermill": {
     "duration": 1.431054,
     "end_time": "2021-08-30T15:22:46.775956",
     "exception": false,
     "start_time": "2021-08-30T15:22:45.344902",
     "status": "completed"
    },
    "tags": []
   },
   "outputs": [],
   "source": [
    "import numpy as np\r\n",
    "import pandas as pd\r\n",
    "import matplotlib.pyplot as plt\r\n",
    "import seaborn as sns\r\n",
    "\r\n",
    "from sklearn.compose import ColumnTransformer\r\n",
    "from sklearn.pipeline import Pipeline\r\n",
    "from sklearn.preprocessing import StandardScaler\r\n",
    "from sklearn.preprocessing import MinMaxScaler\r\n",
    "from sklearn.preprocessing import OneHotEncoder\r\n",
    "from sklearn.ensemble import ExtraTreesRegressor\r\n",
    "from sklearn.ensemble import GradientBoostingClassifier\r\n",
    "from sklearn.ensemble import RandomForestRegressor\r\n",
    "from sklearn.model_selection import cross_val_score\r\n",
    "from sklearn.model_selection import GridSearchCV\r\n",
    "from sklearn.model_selection import cross_validate\r\n",
    "from sklearn.model_selection import RandomizedSearchCV"
   ]
  },
  {
   "cell_type": "markdown",
   "id": "316a849a",
   "metadata": {
    "papermill": {
     "duration": 0.033904,
     "end_time": "2021-08-30T15:22:46.844319",
     "exception": false,
     "start_time": "2021-08-30T15:22:46.810415",
     "status": "completed"
    },
    "tags": []
   },
   "source": [
    "# Import the dataset "
   ]
  },
  {
   "cell_type": "code",
   "execution_count": 2,
   "id": "7bc684f2",
   "metadata": {
    "execution": {
     "iopub.execute_input": "2021-08-30T15:22:46.919479Z",
     "iopub.status.busy": "2021-08-30T15:22:46.918607Z",
     "iopub.status.idle": "2021-08-30T15:22:46.960907Z",
     "shell.execute_reply": "2021-08-30T15:22:46.960357Z",
     "shell.execute_reply.started": "2021-08-30T15:20:56.990879Z"
    },
    "papermill": {
     "duration": 0.082212,
     "end_time": "2021-08-30T15:22:46.961054",
     "exception": false,
     "start_time": "2021-08-30T15:22:46.878842",
     "status": "completed"
    },
    "tags": []
   },
   "outputs": [],
   "source": [
    "df = pd.read_csv('../input/seoul-bike-rental-ai-pro-iti/train.csv',index_col=\"ID\")"
   ]
  },
  {
   "cell_type": "markdown",
   "id": "61d56be9",
   "metadata": {
    "papermill": {
     "duration": 0.033814,
     "end_time": "2021-08-30T15:22:47.029227",
     "exception": false,
     "start_time": "2021-08-30T15:22:46.995413",
     "status": "completed"
    },
    "tags": []
   },
   "source": [
    "### This dataframe presents the Bikes Rented in this city of Seoul. It is presented as a time series which presents the data with a step of an hour.\r\n",
    "For each hour, the dataframe mainly presents weather conditions and information about the day."
   ]
  },
  {
   "cell_type": "code",
   "execution_count": 3,
   "id": "3497bdf2",
   "metadata": {
    "execution": {
     "iopub.execute_input": "2021-08-30T15:22:47.100605Z",
     "iopub.status.busy": "2021-08-30T15:22:47.099976Z",
     "iopub.status.idle": "2021-08-30T15:22:47.128704Z",
     "shell.execute_reply": "2021-08-30T15:22:47.129181Z",
     "shell.execute_reply.started": "2021-08-30T15:20:57.030006Z"
    },
    "papermill": {
     "duration": 0.065886,
     "end_time": "2021-08-30T15:22:47.129342",
     "exception": false,
     "start_time": "2021-08-30T15:22:47.063456",
     "status": "completed"
    },
    "tags": []
   },
   "outputs": [
    {
     "data": {
      "text/html": [
       "<div>\n",
       "<style scoped>\n",
       "    .dataframe tbody tr th:only-of-type {\n",
       "        vertical-align: middle;\n",
       "    }\n",
       "\n",
       "    .dataframe tbody tr th {\n",
       "        vertical-align: top;\n",
       "    }\n",
       "\n",
       "    .dataframe thead th {\n",
       "        text-align: right;\n",
       "    }\n",
       "</style>\n",
       "<table border=\"1\" class=\"dataframe\">\n",
       "  <thead>\n",
       "    <tr style=\"text-align: right;\">\n",
       "      <th></th>\n",
       "      <th>Date</th>\n",
       "      <th>y</th>\n",
       "      <th>Hour</th>\n",
       "      <th>Temperature(�C)</th>\n",
       "      <th>Humidity(%)</th>\n",
       "      <th>Wind speed (m/s)</th>\n",
       "      <th>Visibility (10m)</th>\n",
       "      <th>Dew point temperature(�C)</th>\n",
       "      <th>Solar Radiation (MJ/m2)</th>\n",
       "      <th>Rainfall(mm)</th>\n",
       "      <th>Snowfall (cm)</th>\n",
       "      <th>Seasons</th>\n",
       "      <th>Holiday</th>\n",
       "      <th>Functioning Day</th>\n",
       "    </tr>\n",
       "    <tr>\n",
       "      <th>ID</th>\n",
       "      <th></th>\n",
       "      <th></th>\n",
       "      <th></th>\n",
       "      <th></th>\n",
       "      <th></th>\n",
       "      <th></th>\n",
       "      <th></th>\n",
       "      <th></th>\n",
       "      <th></th>\n",
       "      <th></th>\n",
       "      <th></th>\n",
       "      <th></th>\n",
       "      <th></th>\n",
       "      <th></th>\n",
       "    </tr>\n",
       "  </thead>\n",
       "  <tbody>\n",
       "    <tr>\n",
       "      <th>0</th>\n",
       "      <td>01/12/2017</td>\n",
       "      <td>254</td>\n",
       "      <td>0</td>\n",
       "      <td>-5.2</td>\n",
       "      <td>37</td>\n",
       "      <td>2.2</td>\n",
       "      <td>2000</td>\n",
       "      <td>-17.6</td>\n",
       "      <td>0.0</td>\n",
       "      <td>0.0</td>\n",
       "      <td>0.0</td>\n",
       "      <td>Winter</td>\n",
       "      <td>No Holiday</td>\n",
       "      <td>Yes</td>\n",
       "    </tr>\n",
       "    <tr>\n",
       "      <th>1</th>\n",
       "      <td>01/12/2017</td>\n",
       "      <td>204</td>\n",
       "      <td>1</td>\n",
       "      <td>-5.5</td>\n",
       "      <td>38</td>\n",
       "      <td>0.8</td>\n",
       "      <td>2000</td>\n",
       "      <td>-17.6</td>\n",
       "      <td>0.0</td>\n",
       "      <td>0.0</td>\n",
       "      <td>0.0</td>\n",
       "      <td>Winter</td>\n",
       "      <td>No Holiday</td>\n",
       "      <td>Yes</td>\n",
       "    </tr>\n",
       "    <tr>\n",
       "      <th>2</th>\n",
       "      <td>01/12/2017</td>\n",
       "      <td>173</td>\n",
       "      <td>2</td>\n",
       "      <td>-6.0</td>\n",
       "      <td>39</td>\n",
       "      <td>1.0</td>\n",
       "      <td>2000</td>\n",
       "      <td>-17.7</td>\n",
       "      <td>0.0</td>\n",
       "      <td>0.0</td>\n",
       "      <td>0.0</td>\n",
       "      <td>Winter</td>\n",
       "      <td>No Holiday</td>\n",
       "      <td>Yes</td>\n",
       "    </tr>\n",
       "    <tr>\n",
       "      <th>3</th>\n",
       "      <td>01/12/2017</td>\n",
       "      <td>107</td>\n",
       "      <td>3</td>\n",
       "      <td>-6.2</td>\n",
       "      <td>40</td>\n",
       "      <td>0.9</td>\n",
       "      <td>2000</td>\n",
       "      <td>-17.6</td>\n",
       "      <td>0.0</td>\n",
       "      <td>0.0</td>\n",
       "      <td>0.0</td>\n",
       "      <td>Winter</td>\n",
       "      <td>No Holiday</td>\n",
       "      <td>Yes</td>\n",
       "    </tr>\n",
       "    <tr>\n",
       "      <th>4</th>\n",
       "      <td>01/12/2017</td>\n",
       "      <td>78</td>\n",
       "      <td>4</td>\n",
       "      <td>-6.0</td>\n",
       "      <td>36</td>\n",
       "      <td>2.3</td>\n",
       "      <td>2000</td>\n",
       "      <td>-18.6</td>\n",
       "      <td>0.0</td>\n",
       "      <td>0.0</td>\n",
       "      <td>0.0</td>\n",
       "      <td>Winter</td>\n",
       "      <td>No Holiday</td>\n",
       "      <td>Yes</td>\n",
       "    </tr>\n",
       "  </tbody>\n",
       "</table>\n",
       "</div>"
      ],
      "text/plain": [
       "          Date    y  Hour  Temperature(�C)  Humidity(%)  Wind speed (m/s)  \\\n",
       "ID                                                                          \n",
       "0   01/12/2017  254     0             -5.2           37               2.2   \n",
       "1   01/12/2017  204     1             -5.5           38               0.8   \n",
       "2   01/12/2017  173     2             -6.0           39               1.0   \n",
       "3   01/12/2017  107     3             -6.2           40               0.9   \n",
       "4   01/12/2017   78     4             -6.0           36               2.3   \n",
       "\n",
       "    Visibility (10m)  Dew point temperature(�C)  Solar Radiation (MJ/m2)  \\\n",
       "ID                                                                         \n",
       "0               2000                      -17.6                      0.0   \n",
       "1               2000                      -17.6                      0.0   \n",
       "2               2000                      -17.7                      0.0   \n",
       "3               2000                      -17.6                      0.0   \n",
       "4               2000                      -18.6                      0.0   \n",
       "\n",
       "    Rainfall(mm)  Snowfall (cm) Seasons     Holiday Functioning Day  \n",
       "ID                                                                   \n",
       "0            0.0            0.0  Winter  No Holiday             Yes  \n",
       "1            0.0            0.0  Winter  No Holiday             Yes  \n",
       "2            0.0            0.0  Winter  No Holiday             Yes  \n",
       "3            0.0            0.0  Winter  No Holiday             Yes  \n",
       "4            0.0            0.0  Winter  No Holiday             Yes  "
      ]
     },
     "execution_count": 3,
     "metadata": {},
     "output_type": "execute_result"
    }
   ],
   "source": [
    "df.head()"
   ]
  },
  {
   "cell_type": "markdown",
   "id": "5ae08d7c",
   "metadata": {
    "papermill": {
     "duration": 0.034323,
     "end_time": "2021-08-30T15:22:47.198772",
     "exception": false,
     "start_time": "2021-08-30T15:22:47.164449",
     "status": "completed"
    },
    "tags": []
   },
   "source": [
    "#  \n",
    "# Step 1 : Exploratory Data Analysis and Preprocessing"
   ]
  },
  {
   "cell_type": "code",
   "execution_count": 4,
   "id": "4a4e0654",
   "metadata": {
    "execution": {
     "iopub.execute_input": "2021-08-30T15:22:47.273680Z",
     "iopub.status.busy": "2021-08-30T15:22:47.273028Z",
     "iopub.status.idle": "2021-08-30T15:22:47.275618Z",
     "shell.execute_reply": "2021-08-30T15:22:47.276080Z",
     "shell.execute_reply.started": "2021-08-30T15:20:57.053879Z"
    },
    "papermill": {
     "duration": 0.042441,
     "end_time": "2021-08-30T15:22:47.276246",
     "exception": false,
     "start_time": "2021-08-30T15:22:47.233805",
     "status": "completed"
    },
    "tags": []
   },
   "outputs": [
    {
     "name": "stdout",
     "output_type": "stream",
     "text": [
      "The DataFrame contains 5760 lines and 14 columns\n"
     ]
    }
   ],
   "source": [
    "print(f'The DataFrame contains {df.shape[0]} lines and {df.shape[1]} columns')"
   ]
  },
  {
   "cell_type": "markdown",
   "id": "ef8ad44e",
   "metadata": {
    "papermill": {
     "duration": 0.034516,
     "end_time": "2021-08-30T15:22:47.345603",
     "exception": false,
     "start_time": "2021-08-30T15:22:47.311087",
     "status": "completed"
    },
    "tags": []
   },
   "source": [
    "### Variables Presentation\r\n",
    "Here are all the columns of the DataSet :\r\n",
    "<li>Date : The day of the day, during 365 days, type : str                  \r\n",
    "<li>y : Number of rented bikes per hour which is the target, type : int\r\n",
    "<li>Hour: The hour of the day, type : int\r\n",
    "<li>Temperature(°C): Temperature per hour, type : Float\r\n",
    "<li>Humidity(%): Humidity in the air in %, type : int            \r\n",
    "<li>Wind speed (m/s) : Speed of the wind in m/s, type : Float\r\n",
    "<li>Visibility (10m): Visibility in m, type : int\r\n",
    "<li>Dew point temperature(°C): Temperature at the beggining of the day, type : Float\r\n",
    "<li>Solar Radiation (MJ/m2): Sun contribution, type : Float\r\n",
    "<li>Rainfall(mm): Amount of rain in mm, type : Float\r\n",
    "<li>Snowfall (cm): Amount of snow in cm, type : Float\r\n",
    "<li>Seasons: Season of the year, type : str\r\n",
    "<li>Holiday: If it is holiday period, type: str\r\n",
    "<li>Functioning Day: If it is a Functioning Day, type : str"
   ]
  },
  {
   "cell_type": "markdown",
   "id": "290696e5",
   "metadata": {
    "papermill": {
     "duration": 0.035148,
     "end_time": "2021-08-30T15:22:47.418652",
     "exception": false,
     "start_time": "2021-08-30T15:22:47.383504",
     "status": "completed"
    },
    "tags": []
   },
   "source": [
    "### We mainly will have numeric values, datetime and str"
   ]
  },
  {
   "cell_type": "code",
   "execution_count": 5,
   "id": "db1da885",
   "metadata": {
    "execution": {
     "iopub.execute_input": "2021-08-30T15:22:47.495677Z",
     "iopub.status.busy": "2021-08-30T15:22:47.494967Z",
     "iopub.status.idle": "2021-08-30T15:22:47.498909Z",
     "shell.execute_reply": "2021-08-30T15:22:47.499342Z",
     "shell.execute_reply.started": "2021-08-30T15:20:57.068427Z"
    },
    "papermill": {
     "duration": 0.045997,
     "end_time": "2021-08-30T15:22:47.499497",
     "exception": false,
     "start_time": "2021-08-30T15:22:47.453500",
     "status": "completed"
    },
    "tags": []
   },
   "outputs": [
    {
     "data": {
      "text/plain": [
       "Date                          object\n",
       "y                              int64\n",
       "Hour                           int64\n",
       "Temperature(�C)              float64\n",
       "Humidity(%)                    int64\n",
       "Wind speed (m/s)             float64\n",
       "Visibility (10m)               int64\n",
       "Dew point temperature(�C)    float64\n",
       "Solar Radiation (MJ/m2)      float64\n",
       "Rainfall(mm)                 float64\n",
       "Snowfall (cm)                float64\n",
       "Seasons                       object\n",
       "Holiday                       object\n",
       "Functioning Day               object\n",
       "dtype: object"
      ]
     },
     "execution_count": 5,
     "metadata": {},
     "output_type": "execute_result"
    }
   ],
   "source": [
    "df.dtypes"
   ]
  },
  {
   "cell_type": "markdown",
   "id": "ee3e378f",
   "metadata": {
    "papermill": {
     "duration": 0.035159,
     "end_time": "2021-08-30T15:22:47.570119",
     "exception": false,
     "start_time": "2021-08-30T15:22:47.534960",
     "status": "completed"
    },
    "tags": []
   },
   "source": [
    "\n",
    "### Here is the statitical description of the features"
   ]
  },
  {
   "cell_type": "code",
   "execution_count": 6,
   "id": "31040ed9",
   "metadata": {
    "execution": {
     "iopub.execute_input": "2021-08-30T15:22:47.649707Z",
     "iopub.status.busy": "2021-08-30T15:22:47.649012Z",
     "iopub.status.idle": "2021-08-30T15:22:47.689244Z",
     "shell.execute_reply": "2021-08-30T15:22:47.688558Z",
     "shell.execute_reply.started": "2021-08-30T15:20:57.086385Z"
    },
    "papermill": {
     "duration": 0.083418,
     "end_time": "2021-08-30T15:22:47.689380",
     "exception": false,
     "start_time": "2021-08-30T15:22:47.605962",
     "status": "completed"
    },
    "tags": []
   },
   "outputs": [
    {
     "data": {
      "text/html": [
       "<div>\n",
       "<style scoped>\n",
       "    .dataframe tbody tr th:only-of-type {\n",
       "        vertical-align: middle;\n",
       "    }\n",
       "\n",
       "    .dataframe tbody tr th {\n",
       "        vertical-align: top;\n",
       "    }\n",
       "\n",
       "    .dataframe thead th {\n",
       "        text-align: right;\n",
       "    }\n",
       "</style>\n",
       "<table border=\"1\" class=\"dataframe\">\n",
       "  <thead>\n",
       "    <tr style=\"text-align: right;\">\n",
       "      <th></th>\n",
       "      <th>count</th>\n",
       "      <th>mean</th>\n",
       "      <th>std</th>\n",
       "      <th>min</th>\n",
       "      <th>25%</th>\n",
       "      <th>50%</th>\n",
       "      <th>75%</th>\n",
       "      <th>max</th>\n",
       "    </tr>\n",
       "  </thead>\n",
       "  <tbody>\n",
       "    <tr>\n",
       "      <th>y</th>\n",
       "      <td>5760.0</td>\n",
       "      <td>703.483854</td>\n",
       "      <td>655.249491</td>\n",
       "      <td>0.0</td>\n",
       "      <td>188.00</td>\n",
       "      <td>485.50</td>\n",
       "      <td>1066.000</td>\n",
       "      <td>3556.00</td>\n",
       "    </tr>\n",
       "    <tr>\n",
       "      <th>Hour</th>\n",
       "      <td>5760.0</td>\n",
       "      <td>11.500000</td>\n",
       "      <td>6.922788</td>\n",
       "      <td>0.0</td>\n",
       "      <td>5.75</td>\n",
       "      <td>11.50</td>\n",
       "      <td>17.250</td>\n",
       "      <td>23.00</td>\n",
       "    </tr>\n",
       "    <tr>\n",
       "      <th>Temperature(�C)</th>\n",
       "      <td>5760.0</td>\n",
       "      <td>12.803559</td>\n",
       "      <td>11.902206</td>\n",
       "      <td>-15.1</td>\n",
       "      <td>3.20</td>\n",
       "      <td>13.70</td>\n",
       "      <td>22.225</td>\n",
       "      <td>39.40</td>\n",
       "    </tr>\n",
       "    <tr>\n",
       "      <th>Humidity(%)</th>\n",
       "      <td>5760.0</td>\n",
       "      <td>58.361806</td>\n",
       "      <td>19.840167</td>\n",
       "      <td>0.0</td>\n",
       "      <td>43.00</td>\n",
       "      <td>57.00</td>\n",
       "      <td>73.000</td>\n",
       "      <td>98.00</td>\n",
       "    </tr>\n",
       "    <tr>\n",
       "      <th>Wind speed (m/s)</th>\n",
       "      <td>5760.0</td>\n",
       "      <td>1.723333</td>\n",
       "      <td>1.047898</td>\n",
       "      <td>0.0</td>\n",
       "      <td>0.90</td>\n",
       "      <td>1.50</td>\n",
       "      <td>2.300</td>\n",
       "      <td>7.40</td>\n",
       "    </tr>\n",
       "    <tr>\n",
       "      <th>Visibility (10m)</th>\n",
       "      <td>5760.0</td>\n",
       "      <td>1473.711458</td>\n",
       "      <td>585.879880</td>\n",
       "      <td>27.0</td>\n",
       "      <td>1025.75</td>\n",
       "      <td>1732.00</td>\n",
       "      <td>2000.000</td>\n",
       "      <td>2000.00</td>\n",
       "    </tr>\n",
       "    <tr>\n",
       "      <th>Dew point temperature(�C)</th>\n",
       "      <td>5760.0</td>\n",
       "      <td>4.058264</td>\n",
       "      <td>13.003582</td>\n",
       "      <td>-26.9</td>\n",
       "      <td>-5.40</td>\n",
       "      <td>5.20</td>\n",
       "      <td>14.700</td>\n",
       "      <td>27.20</td>\n",
       "    </tr>\n",
       "    <tr>\n",
       "      <th>Solar Radiation (MJ/m2)</th>\n",
       "      <td>5760.0</td>\n",
       "      <td>0.572325</td>\n",
       "      <td>0.869943</td>\n",
       "      <td>0.0</td>\n",
       "      <td>0.00</td>\n",
       "      <td>0.01</td>\n",
       "      <td>0.940</td>\n",
       "      <td>3.52</td>\n",
       "    </tr>\n",
       "    <tr>\n",
       "      <th>Rainfall(mm)</th>\n",
       "      <td>5760.0</td>\n",
       "      <td>0.135122</td>\n",
       "      <td>1.075320</td>\n",
       "      <td>0.0</td>\n",
       "      <td>0.00</td>\n",
       "      <td>0.00</td>\n",
       "      <td>0.000</td>\n",
       "      <td>35.00</td>\n",
       "    </tr>\n",
       "    <tr>\n",
       "      <th>Snowfall (cm)</th>\n",
       "      <td>5760.0</td>\n",
       "      <td>0.046302</td>\n",
       "      <td>0.323728</td>\n",
       "      <td>0.0</td>\n",
       "      <td>0.00</td>\n",
       "      <td>0.00</td>\n",
       "      <td>0.000</td>\n",
       "      <td>5.10</td>\n",
       "    </tr>\n",
       "  </tbody>\n",
       "</table>\n",
       "</div>"
      ],
      "text/plain": [
       "                            count         mean         std   min      25%  \\\n",
       "y                          5760.0   703.483854  655.249491   0.0   188.00   \n",
       "Hour                       5760.0    11.500000    6.922788   0.0     5.75   \n",
       "Temperature(�C)            5760.0    12.803559   11.902206 -15.1     3.20   \n",
       "Humidity(%)                5760.0    58.361806   19.840167   0.0    43.00   \n",
       "Wind speed (m/s)           5760.0     1.723333    1.047898   0.0     0.90   \n",
       "Visibility (10m)           5760.0  1473.711458  585.879880  27.0  1025.75   \n",
       "Dew point temperature(�C)  5760.0     4.058264   13.003582 -26.9    -5.40   \n",
       "Solar Radiation (MJ/m2)    5760.0     0.572325    0.869943   0.0     0.00   \n",
       "Rainfall(mm)               5760.0     0.135122    1.075320   0.0     0.00   \n",
       "Snowfall (cm)              5760.0     0.046302    0.323728   0.0     0.00   \n",
       "\n",
       "                               50%       75%      max  \n",
       "y                           485.50  1066.000  3556.00  \n",
       "Hour                         11.50    17.250    23.00  \n",
       "Temperature(�C)              13.70    22.225    39.40  \n",
       "Humidity(%)                  57.00    73.000    98.00  \n",
       "Wind speed (m/s)              1.50     2.300     7.40  \n",
       "Visibility (10m)           1732.00  2000.000  2000.00  \n",
       "Dew point temperature(�C)     5.20    14.700    27.20  \n",
       "Solar Radiation (MJ/m2)       0.01     0.940     3.52  \n",
       "Rainfall(mm)                  0.00     0.000    35.00  \n",
       "Snowfall (cm)                 0.00     0.000     5.10  "
      ]
     },
     "execution_count": 6,
     "metadata": {},
     "output_type": "execute_result"
    }
   ],
   "source": [
    "df.describe().T"
   ]
  },
  {
   "cell_type": "markdown",
   "id": "a6802267",
   "metadata": {
    "papermill": {
     "duration": 0.036143,
     "end_time": "2021-08-30T15:22:47.762300",
     "exception": false,
     "start_time": "2021-08-30T15:22:47.726157",
     "status": "completed"
    },
    "pycharm": {
     "name": "#%% md\n"
    },
    "tags": []
   },
   "source": [
    "### Now Renaming some columns"
   ]
  },
  {
   "cell_type": "code",
   "execution_count": null,
   "id": "6d4ca4f1",
   "metadata": {
    "papermill": {
     "duration": 0.036693,
     "end_time": "2021-08-30T15:22:47.836494",
     "exception": false,
     "start_time": "2021-08-30T15:22:47.799801",
     "status": "completed"
    },
    "tags": []
   },
   "outputs": [],
   "source": []
  },
  {
   "cell_type": "markdown",
   "id": "19a35b87",
   "metadata": {
    "papermill": {
     "duration": 0.03743,
     "end_time": "2021-08-30T15:22:47.910539",
     "exception": false,
     "start_time": "2021-08-30T15:22:47.873109",
     "status": "completed"
    },
    "tags": []
   },
   "source": [
    "##  \n",
    "### Here are the correlations between variables"
   ]
  },
  {
   "cell_type": "markdown",
   "id": "1bb36632",
   "metadata": {
    "papermill": {
     "duration": 0.037422,
     "end_time": "2021-08-30T15:22:47.984504",
     "exception": false,
     "start_time": "2021-08-30T15:22:47.947082",
     "status": "completed"
    },
    "tags": []
   },
   "source": [
    "#### We can see that on the target variable line the most correlated variables to the rent are :\n",
    "<ul>\n",
    "<li>the temperature\n",
    "<li>the dew point temperature\n",
    "<li>the solar radiation\n",
    "</ul>"
   ]
  },
  {
   "cell_type": "markdown",
   "id": "47e10077",
   "metadata": {
    "papermill": {
     "duration": 0.036128,
     "end_time": "2021-08-30T15:22:48.057381",
     "exception": false,
     "start_time": "2021-08-30T15:22:48.021253",
     "status": "completed"
    },
    "tags": []
   },
   "source": [
    "##### (The dew point is a temperature which is so cold that the vapor becomes liquid)"
   ]
  },
  {
   "cell_type": "code",
   "execution_count": 7,
   "id": "c1ef9b50",
   "metadata": {
    "execution": {
     "iopub.execute_input": "2021-08-30T15:22:48.139761Z",
     "iopub.status.busy": "2021-08-30T15:22:48.137076Z",
     "iopub.status.idle": "2021-08-30T15:22:49.192531Z",
     "shell.execute_reply": "2021-08-30T15:22:49.191982Z",
     "shell.execute_reply.started": "2021-08-30T15:20:57.143455Z"
    },
    "papermill": {
     "duration": 1.098191,
     "end_time": "2021-08-30T15:22:49.192715",
     "exception": false,
     "start_time": "2021-08-30T15:22:48.094524",
     "status": "completed"
    },
    "tags": []
   },
   "outputs": [
    {
     "data": {
      "text/plain": [
       "Text(0.5, 1.0, 'features_correlation')"
      ]
     },
     "execution_count": 7,
     "metadata": {},
     "output_type": "execute_result"
    },
    {
     "data": {
      "image/png": "[encoded data removed]",
      "text/plain": [
       "<Figure size 720x720 with 2 Axes>"
      ]
     },
     "metadata": {
      "needs_background": "light"
     },
     "output_type": "display_data"
    }
   ],
   "source": [
    "plt.figure(figsize=(10,10))\r\n",
    "sns.heatmap(df.corr(),annot=True)\r\n",
    "plt.title(\"features_correlation\",size=20)\r\n"
   ]
  },
  {
   "cell_type": "code",
   "execution_count": 8,
   "id": "2d9472d1",
   "metadata": {
    "execution": {
     "iopub.execute_input": "2021-08-30T15:22:49.276119Z",
     "iopub.status.busy": "2021-08-30T15:22:49.275371Z",
     "iopub.status.idle": "2021-08-30T15:22:49.278251Z",
     "shell.execute_reply": "2021-08-30T15:22:49.277755Z",
     "shell.execute_reply.started": "2021-08-30T15:20:58.098973Z"
    },
    "papermill": {
     "duration": 0.046056,
     "end_time": "2021-08-30T15:22:49.278388",
     "exception": false,
     "start_time": "2021-08-30T15:22:49.232332",
     "status": "completed"
    },
    "tags": []
   },
   "outputs": [],
   "source": [
    "#sns.pairplot(df)\r\n",
    "#plt.show()"
   ]
  },
  {
   "cell_type": "code",
   "execution_count": null,
   "id": "2b635329",
   "metadata": {
    "papermill": {
     "duration": 0.039188,
     "end_time": "2021-08-30T15:22:49.357155",
     "exception": false,
     "start_time": "2021-08-30T15:22:49.317967",
     "status": "completed"
    },
    "tags": []
   },
   "outputs": [],
   "source": []
  },
  {
   "cell_type": "markdown",
   "id": "54491410",
   "metadata": {
    "papermill": {
     "duration": 0.038935,
     "end_time": "2021-08-30T15:22:49.435125",
     "exception": false,
     "start_time": "2021-08-30T15:22:49.396190",
     "status": "completed"
    },
    "tags": []
   },
   "source": [
    "### We see that there is a hyper correlation between columns 'Temperature(°C)' and 'Dew point temperature(°C)'  so we can drop the column 'Dew point temperature(°C)' as they have the same variations."
   ]
  },
  {
   "cell_type": "code",
   "execution_count": 9,
   "id": "862c4307",
   "metadata": {
    "execution": {
     "iopub.execute_input": "2021-08-30T15:22:49.534099Z",
     "iopub.status.busy": "2021-08-30T15:22:49.533145Z",
     "iopub.status.idle": "2021-08-30T15:22:49.537536Z",
     "shell.execute_reply": "2021-08-30T15:22:49.536912Z",
     "shell.execute_reply.started": "2021-08-30T15:20:58.106533Z"
    },
    "papermill": {
     "duration": 0.062933,
     "end_time": "2021-08-30T15:22:49.537689",
     "exception": false,
     "start_time": "2021-08-30T15:22:49.474756",
     "status": "completed"
    },
    "tags": []
   },
   "outputs": [
    {
     "data": {
      "text/html": [
       "<div>\n",
       "<style scoped>\n",
       "    .dataframe tbody tr th:only-of-type {\n",
       "        vertical-align: middle;\n",
       "    }\n",
       "\n",
       "    .dataframe tbody tr th {\n",
       "        vertical-align: top;\n",
       "    }\n",
       "\n",
       "    .dataframe thead th {\n",
       "        text-align: right;\n",
       "    }\n",
       "</style>\n",
       "<table border=\"1\" class=\"dataframe\">\n",
       "  <thead>\n",
       "    <tr style=\"text-align: right;\">\n",
       "      <th></th>\n",
       "      <th>Date</th>\n",
       "      <th>y</th>\n",
       "      <th>Hour</th>\n",
       "      <th>Temperature(�C)</th>\n",
       "      <th>Humidity(%)</th>\n",
       "      <th>Wind speed (m/s)</th>\n",
       "      <th>Visibility (10m)</th>\n",
       "      <th>Dew point temperature(�C)</th>\n",
       "      <th>Solar Radiation (MJ/m2)</th>\n",
       "      <th>Rainfall(mm)</th>\n",
       "      <th>Snowfall (cm)</th>\n",
       "      <th>Seasons</th>\n",
       "      <th>Holiday</th>\n",
       "      <th>Functioning Day</th>\n",
       "    </tr>\n",
       "    <tr>\n",
       "      <th>ID</th>\n",
       "      <th></th>\n",
       "      <th></th>\n",
       "      <th></th>\n",
       "      <th></th>\n",
       "      <th></th>\n",
       "      <th></th>\n",
       "      <th></th>\n",
       "      <th></th>\n",
       "      <th></th>\n",
       "      <th></th>\n",
       "      <th></th>\n",
       "      <th></th>\n",
       "      <th></th>\n",
       "      <th></th>\n",
       "    </tr>\n",
       "  </thead>\n",
       "  <tbody>\n",
       "    <tr>\n",
       "      <th>0</th>\n",
       "      <td>01/12/2017</td>\n",
       "      <td>254</td>\n",
       "      <td>0</td>\n",
       "      <td>-5.2</td>\n",
       "      <td>37</td>\n",
       "      <td>2.2</td>\n",
       "      <td>2000</td>\n",
       "      <td>-17.6</td>\n",
       "      <td>0.0</td>\n",
       "      <td>0.0</td>\n",
       "      <td>0.0</td>\n",
       "      <td>Winter</td>\n",
       "      <td>No Holiday</td>\n",
       "      <td>Yes</td>\n",
       "    </tr>\n",
       "    <tr>\n",
       "      <th>1</th>\n",
       "      <td>01/12/2017</td>\n",
       "      <td>204</td>\n",
       "      <td>1</td>\n",
       "      <td>-5.5</td>\n",
       "      <td>38</td>\n",
       "      <td>0.8</td>\n",
       "      <td>2000</td>\n",
       "      <td>-17.6</td>\n",
       "      <td>0.0</td>\n",
       "      <td>0.0</td>\n",
       "      <td>0.0</td>\n",
       "      <td>Winter</td>\n",
       "      <td>No Holiday</td>\n",
       "      <td>Yes</td>\n",
       "    </tr>\n",
       "    <tr>\n",
       "      <th>2</th>\n",
       "      <td>01/12/2017</td>\n",
       "      <td>173</td>\n",
       "      <td>2</td>\n",
       "      <td>-6.0</td>\n",
       "      <td>39</td>\n",
       "      <td>1.0</td>\n",
       "      <td>2000</td>\n",
       "      <td>-17.7</td>\n",
       "      <td>0.0</td>\n",
       "      <td>0.0</td>\n",
       "      <td>0.0</td>\n",
       "      <td>Winter</td>\n",
       "      <td>No Holiday</td>\n",
       "      <td>Yes</td>\n",
       "    </tr>\n",
       "    <tr>\n",
       "      <th>3</th>\n",
       "      <td>01/12/2017</td>\n",
       "      <td>107</td>\n",
       "      <td>3</td>\n",
       "      <td>-6.2</td>\n",
       "      <td>40</td>\n",
       "      <td>0.9</td>\n",
       "      <td>2000</td>\n",
       "      <td>-17.6</td>\n",
       "      <td>0.0</td>\n",
       "      <td>0.0</td>\n",
       "      <td>0.0</td>\n",
       "      <td>Winter</td>\n",
       "      <td>No Holiday</td>\n",
       "      <td>Yes</td>\n",
       "    </tr>\n",
       "    <tr>\n",
       "      <th>4</th>\n",
       "      <td>01/12/2017</td>\n",
       "      <td>78</td>\n",
       "      <td>4</td>\n",
       "      <td>-6.0</td>\n",
       "      <td>36</td>\n",
       "      <td>2.3</td>\n",
       "      <td>2000</td>\n",
       "      <td>-18.6</td>\n",
       "      <td>0.0</td>\n",
       "      <td>0.0</td>\n",
       "      <td>0.0</td>\n",
       "      <td>Winter</td>\n",
       "      <td>No Holiday</td>\n",
       "      <td>Yes</td>\n",
       "    </tr>\n",
       "  </tbody>\n",
       "</table>\n",
       "</div>"
      ],
      "text/plain": [
       "          Date    y  Hour  Temperature(�C)  Humidity(%)  Wind speed (m/s)  \\\n",
       "ID                                                                          \n",
       "0   01/12/2017  254     0             -5.2           37               2.2   \n",
       "1   01/12/2017  204     1             -5.5           38               0.8   \n",
       "2   01/12/2017  173     2             -6.0           39               1.0   \n",
       "3   01/12/2017  107     3             -6.2           40               0.9   \n",
       "4   01/12/2017   78     4             -6.0           36               2.3   \n",
       "\n",
       "    Visibility (10m)  Dew point temperature(�C)  Solar Radiation (MJ/m2)  \\\n",
       "ID                                                                         \n",
       "0               2000                      -17.6                      0.0   \n",
       "1               2000                      -17.6                      0.0   \n",
       "2               2000                      -17.7                      0.0   \n",
       "3               2000                      -17.6                      0.0   \n",
       "4               2000                      -18.6                      0.0   \n",
       "\n",
       "    Rainfall(mm)  Snowfall (cm) Seasons     Holiday Functioning Day  \n",
       "ID                                                                   \n",
       "0            0.0            0.0  Winter  No Holiday             Yes  \n",
       "1            0.0            0.0  Winter  No Holiday             Yes  \n",
       "2            0.0            0.0  Winter  No Holiday             Yes  \n",
       "3            0.0            0.0  Winter  No Holiday             Yes  \n",
       "4            0.0            0.0  Winter  No Holiday             Yes  "
      ]
     },
     "execution_count": 9,
     "metadata": {},
     "output_type": "execute_result"
    }
   ],
   "source": [
    "df.head()"
   ]
  },
  {
   "cell_type": "markdown",
   "id": "00d69c8d",
   "metadata": {
    "papermill": {
     "duration": 0.039256,
     "end_time": "2021-08-30T15:22:49.616912",
     "exception": false,
     "start_time": "2021-08-30T15:22:49.577656",
     "status": "completed"
    },
    "tags": []
   },
   "source": [
    "#### This is the list of sorted correlation of variables to the target"
   ]
  },
  {
   "cell_type": "code",
   "execution_count": 10,
   "id": "31c02e22",
   "metadata": {
    "execution": {
     "iopub.execute_input": "2021-08-30T15:22:49.702136Z",
     "iopub.status.busy": "2021-08-30T15:22:49.701255Z",
     "iopub.status.idle": "2021-08-30T15:22:49.716363Z",
     "shell.execute_reply": "2021-08-30T15:22:49.716855Z",
     "shell.execute_reply.started": "2021-08-30T15:20:58.133777Z"
    },
    "papermill": {
     "duration": 0.060584,
     "end_time": "2021-08-30T15:22:49.717038",
     "exception": false,
     "start_time": "2021-08-30T15:22:49.656454",
     "status": "completed"
    },
    "tags": []
   },
   "outputs": [
    {
     "data": {
      "text/html": [
       "<div>\n",
       "<style scoped>\n",
       "    .dataframe tbody tr th:only-of-type {\n",
       "        vertical-align: middle;\n",
       "    }\n",
       "\n",
       "    .dataframe tbody tr th {\n",
       "        vertical-align: top;\n",
       "    }\n",
       "\n",
       "    .dataframe thead th {\n",
       "        text-align: right;\n",
       "    }\n",
       "</style>\n",
       "<table border=\"1\" class=\"dataframe\">\n",
       "  <thead>\n",
       "    <tr style=\"text-align: right;\">\n",
       "      <th></th>\n",
       "      <th>Correlation to the target</th>\n",
       "    </tr>\n",
       "  </thead>\n",
       "  <tbody>\n",
       "    <tr>\n",
       "      <th>y</th>\n",
       "      <td>1.000000</td>\n",
       "    </tr>\n",
       "    <tr>\n",
       "      <th>Temperature(�C)</th>\n",
       "      <td>0.544281</td>\n",
       "    </tr>\n",
       "    <tr>\n",
       "      <th>Hour</th>\n",
       "      <td>0.407180</td>\n",
       "    </tr>\n",
       "    <tr>\n",
       "      <th>Dew point temperature(�C)</th>\n",
       "      <td>0.392454</td>\n",
       "    </tr>\n",
       "    <tr>\n",
       "      <th>Solar Radiation (MJ/m2)</th>\n",
       "      <td>0.250601</td>\n",
       "    </tr>\n",
       "    <tr>\n",
       "      <th>Visibility (10m)</th>\n",
       "      <td>0.214777</td>\n",
       "    </tr>\n",
       "    <tr>\n",
       "      <th>Wind speed (m/s)</th>\n",
       "      <td>0.116380</td>\n",
       "    </tr>\n",
       "    <tr>\n",
       "      <th>Rainfall(mm)</th>\n",
       "      <td>-0.117711</td>\n",
       "    </tr>\n",
       "    <tr>\n",
       "      <th>Snowfall (cm)</th>\n",
       "      <td>-0.120836</td>\n",
       "    </tr>\n",
       "    <tr>\n",
       "      <th>Humidity(%)</th>\n",
       "      <td>-0.191603</td>\n",
       "    </tr>\n",
       "  </tbody>\n",
       "</table>\n",
       "</div>"
      ],
      "text/plain": [
       "                           Correlation to the target\n",
       "y                                           1.000000\n",
       "Temperature(�C)                             0.544281\n",
       "Hour                                        0.407180\n",
       "Dew point temperature(�C)                   0.392454\n",
       "Solar Radiation (MJ/m2)                     0.250601\n",
       "Visibility (10m)                            0.214777\n",
       "Wind speed (m/s)                            0.116380\n",
       "Rainfall(mm)                               -0.117711\n",
       "Snowfall (cm)                              -0.120836\n",
       "Humidity(%)                                -0.191603"
      ]
     },
     "execution_count": 10,
     "metadata": {},
     "output_type": "execute_result"
    }
   ],
   "source": [
    "pd.DataFrame(df.corr().unstack().sort_values(ascending=False)['y'],columns=['Correlation to the target'])"
   ]
  },
  {
   "cell_type": "markdown",
   "id": "4ed1e01e",
   "metadata": {
    "papermill": {
     "duration": 0.040386,
     "end_time": "2021-08-30T15:22:49.798475",
     "exception": false,
     "start_time": "2021-08-30T15:22:49.758089",
     "status": "completed"
    },
    "tags": []
   },
   "source": [
    "#  \n",
    "# Step 2 : Data Preparation and data Visualisation"
   ]
  },
  {
   "cell_type": "markdown",
   "id": "c898bc0f",
   "metadata": {
    "papermill": {
     "duration": 0.040093,
     "end_time": "2021-08-30T15:22:49.879061",
     "exception": false,
     "start_time": "2021-08-30T15:22:49.838968",
     "status": "completed"
    },
    "tags": []
   },
   "source": [
    "### Creating variables"
   ]
  },
  {
   "cell_type": "markdown",
   "id": "588b8f40",
   "metadata": {
    "papermill": {
     "duration": 0.040661,
     "end_time": "2021-08-30T15:22:49.961295",
     "exception": false,
     "start_time": "2021-08-30T15:22:49.920634",
     "status": "completed"
    },
    "tags": []
   },
   "source": [
    "###### We create a column feature which gives the day of the week and the month corresponding to the date"
   ]
  },
  {
   "cell_type": "code",
   "execution_count": 11,
   "id": "7a1e0f7d",
   "metadata": {
    "execution": {
     "iopub.execute_input": "2021-08-30T15:22:50.048458Z",
     "iopub.status.busy": "2021-08-30T15:22:50.047759Z",
     "iopub.status.idle": "2021-08-30T15:22:50.050444Z",
     "shell.execute_reply": "2021-08-30T15:22:50.049824Z",
     "shell.execute_reply.started": "2021-08-30T15:20:58.159820Z"
    },
    "papermill": {
     "duration": 0.049057,
     "end_time": "2021-08-30T15:22:50.050604",
     "exception": false,
     "start_time": "2021-08-30T15:22:50.001547",
     "status": "completed"
    },
    "tags": []
   },
   "outputs": [],
   "source": [
    "df_train_target = df['y']\r\n",
    "df = df.drop('y',axis=1)"
   ]
  },
  {
   "cell_type": "code",
   "execution_count": 12,
   "id": "bebc17d3",
   "metadata": {
    "execution": {
     "iopub.execute_input": "2021-08-30T15:22:50.138137Z",
     "iopub.status.busy": "2021-08-30T15:22:50.137446Z",
     "iopub.status.idle": "2021-08-30T15:22:50.140210Z",
     "shell.execute_reply": "2021-08-30T15:22:50.140696Z",
     "shell.execute_reply.started": "2021-08-30T15:20:58.169734Z"
    },
    "papermill": {
     "duration": 0.049883,
     "end_time": "2021-08-30T15:22:50.140858",
     "exception": false,
     "start_time": "2021-08-30T15:22:50.090975",
     "status": "completed"
    },
    "tags": []
   },
   "outputs": [
    {
     "data": {
      "text/plain": [
       "Date                          object\n",
       "Hour                           int64\n",
       "Temperature(�C)              float64\n",
       "Humidity(%)                    int64\n",
       "Wind speed (m/s)             float64\n",
       "Visibility (10m)               int64\n",
       "Dew point temperature(�C)    float64\n",
       "Solar Radiation (MJ/m2)      float64\n",
       "Rainfall(mm)                 float64\n",
       "Snowfall (cm)                float64\n",
       "Seasons                       object\n",
       "Holiday                       object\n",
       "Functioning Day               object\n",
       "dtype: object"
      ]
     },
     "execution_count": 12,
     "metadata": {},
     "output_type": "execute_result"
    }
   ],
   "source": [
    "df.dtypes"
   ]
  },
  {
   "cell_type": "code",
   "execution_count": 13,
   "id": "864c88e4",
   "metadata": {
    "execution": {
     "iopub.execute_input": "2021-08-30T15:22:50.224980Z",
     "iopub.status.busy": "2021-08-30T15:22:50.224326Z",
     "iopub.status.idle": "2021-08-30T15:22:50.233920Z",
     "shell.execute_reply": "2021-08-30T15:22:50.234374Z",
     "shell.execute_reply.started": "2021-08-30T15:20:58.185583Z"
    },
    "papermill": {
     "duration": 0.053155,
     "end_time": "2021-08-30T15:22:50.234547",
     "exception": false,
     "start_time": "2021-08-30T15:22:50.181392",
     "status": "completed"
    },
    "tags": []
   },
   "outputs": [],
   "source": [
    "def preprocess(df):\r\n",
    "    df = df.rename({'Temperature(�C)':'Temperature(°C)',\r\n",
    "                'Dew point temperature(�C)':'Dew point temperature(°C)'}, axis=1)\r\n",
    "    df = df.drop(['Dew point temperature(°C)'],axis=1)\r\n",
    "\r\n",
    "    numerical_cols = [cname for cname in df.columns if df[cname].dtype in ['int64', 'float64'] and cname not in ['Rainfall(mm)','Snowfall (cm)','Hour'] ]\r\n",
    "    categorical_cols = [cname for cname in df.columns if df[cname].dtype == \"object\" or cname in ['Rainfall(mm)','Snowfall (cm)','Hour']]\r\n",
    "    df_numerical = df[numerical_cols]\r\n",
    "    df_categorical = df[categorical_cols]\r\n",
    "\r\n",
    "    df_categorical['Date'] = pd.to_datetime(df_categorical['Date'],infer_datetime_format=True)\r\n",
    "    df_categorical['Month'] = df_categorical['Date'].dt.month\r\n",
    "    df_categorical['Week Day'] = df_categorical['Date'].dt.day_name()\r\n",
    "    df_categorical= pd.get_dummies(df_categorical, columns=['Week Day','Month','Functioning Day','Holiday','Seasons','Hour'])\r\n",
    "\r\n",
    "    df_categorical['Rain'] = df_categorical['Rainfall(mm)'].map(lambda x: 0 if x == 0.0 else 1)\r\n",
    "    df_categorical['Snow'] = df_categorical['Snowfall (cm)'].map(lambda x: 0 if x == 0.0 else 1)\r\n",
    "    df_categorical.drop(['Date','Rainfall(mm)','Snowfall (cm)'],axis=1,inplace=True)\r\n",
    "    return df_categorical,df_numerical"
   ]
  },
  {
   "cell_type": "code",
   "execution_count": 14,
   "id": "632396b0",
   "metadata": {
    "execution": {
     "iopub.execute_input": "2021-08-30T15:22:50.319522Z",
     "iopub.status.busy": "2021-08-30T15:22:50.318887Z",
     "iopub.status.idle": "2021-08-30T15:22:50.327092Z",
     "shell.execute_reply": "2021-08-30T15:22:50.327597Z",
     "shell.execute_reply.started": "2021-08-30T15:20:58.200735Z"
    },
    "papermill": {
     "duration": 0.052368,
     "end_time": "2021-08-30T15:22:50.327785",
     "exception": false,
     "start_time": "2021-08-30T15:22:50.275417",
     "status": "completed"
    },
    "tags": []
   },
   "outputs": [],
   "source": [
    "def preprocess2(df):\r\n",
    "    df = df.rename({'Temperature(�C)':'Temperature(°C)',\r\n",
    "                'Dew point temperature(�C)':'Dew point temperature(°C)'}, axis=1)\r\n",
    "    df = df.drop(['Dew point temperature(°C)'],axis=1)\r\n",
    "\r\n",
    "    numerical_cols = [cname for cname in df.columns if df[cname].dtype in ['int64', 'float64'] and cname not in ['Hour'] ]\r\n",
    "    categorical_cols = [cname for cname in df.columns if df[cname].dtype == \"object\" or cname in ['Hour']]\r\n",
    "    df_numerical = df[numerical_cols]\r\n",
    "    df_categorical = df[categorical_cols]\r\n",
    "\r\n",
    "    df_categorical['Date'] = pd.to_datetime(df_categorical['Date'],infer_datetime_format=True)\r\n",
    "    df_categorical['Month'] = df_categorical['Date'].dt.month\r\n",
    "    df_categorical['Week Day'] = df_categorical['Date'].dt.day_name()\r\n",
    "    df_categorical= pd.get_dummies(df_categorical, columns=['Week Day','Month','Functioning Day','Holiday','Seasons','Hour'])\r\n",
    "\r\n",
    "\r\n",
    "    df_categorical.drop(['Date'],axis=1,inplace=True)\r\n",
    "    return df_categorical,df_numerical"
   ]
  },
  {
   "cell_type": "code",
   "execution_count": 15,
   "id": "eba438e9",
   "metadata": {
    "execution": {
     "iopub.execute_input": "2021-08-30T15:22:50.411987Z",
     "iopub.status.busy": "2021-08-30T15:22:50.411358Z",
     "iopub.status.idle": "2021-08-30T15:22:50.456655Z",
     "shell.execute_reply": "2021-08-30T15:22:50.457488Z",
     "shell.execute_reply.started": "2021-08-30T15:20:58.220506Z"
    },
    "papermill": {
     "duration": 0.089248,
     "end_time": "2021-08-30T15:22:50.457731",
     "exception": false,
     "start_time": "2021-08-30T15:22:50.368483",
     "status": "completed"
    },
    "tags": []
   },
   "outputs": [
    {
     "name": "stderr",
     "output_type": "stream",
     "text": [
      "/opt/conda/lib/python3.7/site-packages/ipykernel_launcher.py:11: SettingWithCopyWarning: \n",
      "A value is trying to be set on a copy of a slice from a DataFrame.\n",
      "Try using .loc[row_indexer,col_indexer] = value instead\n",
      "\n",
      "See the caveats in the documentation: https://pandas.pydata.org/pandas-docs/stable/user_guide/indexing.html#returning-a-view-versus-a-copy\n",
      "  # This is added back by InteractiveShellApp.init_path()\n",
      "/opt/conda/lib/python3.7/site-packages/ipykernel_launcher.py:12: SettingWithCopyWarning: \n",
      "A value is trying to be set on a copy of a slice from a DataFrame.\n",
      "Try using .loc[row_indexer,col_indexer] = value instead\n",
      "\n",
      "See the caveats in the documentation: https://pandas.pydata.org/pandas-docs/stable/user_guide/indexing.html#returning-a-view-versus-a-copy\n",
      "  if sys.path[0] == '':\n",
      "/opt/conda/lib/python3.7/site-packages/ipykernel_launcher.py:13: SettingWithCopyWarning: \n",
      "A value is trying to be set on a copy of a slice from a DataFrame.\n",
      "Try using .loc[row_indexer,col_indexer] = value instead\n",
      "\n",
      "See the caveats in the documentation: https://pandas.pydata.org/pandas-docs/stable/user_guide/indexing.html#returning-a-view-versus-a-copy\n",
      "  del sys.path[0]\n"
     ]
    }
   ],
   "source": [
    "df_train_cat,df_train_num = preprocess(df)"
   ]
  },
  {
   "cell_type": "code",
   "execution_count": 16,
   "id": "cabaf8f2",
   "metadata": {
    "execution": {
     "iopub.execute_input": "2021-08-30T15:22:50.547983Z",
     "iopub.status.busy": "2021-08-30T15:22:50.547344Z",
     "iopub.status.idle": "2021-08-30T15:22:50.552599Z",
     "shell.execute_reply": "2021-08-30T15:22:50.553079Z",
     "shell.execute_reply.started": "2021-08-30T15:20:58.274964Z"
    },
    "papermill": {
     "duration": 0.053414,
     "end_time": "2021-08-30T15:22:50.553247",
     "exception": false,
     "start_time": "2021-08-30T15:22:50.499833",
     "status": "completed"
    },
    "tags": []
   },
   "outputs": [],
   "source": [
    "scaler = StandardScaler()\r\n",
    "df_numerical = scaler.fit_transform(df_train_num)\r\n",
    "df_train_num = pd.DataFrame(df_numerical,columns=df_train_num.columns)\r\n",
    "df_train_num.index = df.index"
   ]
  },
  {
   "cell_type": "code",
   "execution_count": 17,
   "id": "3417fa8f",
   "metadata": {
    "execution": {
     "iopub.execute_input": "2021-08-30T15:22:50.638919Z",
     "iopub.status.busy": "2021-08-30T15:22:50.638196Z",
     "iopub.status.idle": "2021-08-30T15:22:50.642673Z",
     "shell.execute_reply": "2021-08-30T15:22:50.643219Z",
     "shell.execute_reply.started": "2021-08-30T15:20:58.289316Z"
    },
    "papermill": {
     "duration": 0.048969,
     "end_time": "2021-08-30T15:22:50.643374",
     "exception": false,
     "start_time": "2021-08-30T15:22:50.594405",
     "status": "completed"
    },
    "tags": []
   },
   "outputs": [],
   "source": [
    "df_train = pd.concat([df_train_num,df_train_cat],axis=1)"
   ]
  },
  {
   "cell_type": "code",
   "execution_count": 18,
   "id": "58c06c43",
   "metadata": {
    "execution": {
     "iopub.execute_input": "2021-08-30T15:22:50.728966Z",
     "iopub.status.busy": "2021-08-30T15:22:50.728348Z",
     "iopub.status.idle": "2021-08-30T15:22:50.749852Z",
     "shell.execute_reply": "2021-08-30T15:22:50.750301Z",
     "shell.execute_reply.started": "2021-08-30T15:20:58.304388Z"
    },
    "papermill": {
     "duration": 0.065878,
     "end_time": "2021-08-30T15:22:50.750468",
     "exception": false,
     "start_time": "2021-08-30T15:22:50.684590",
     "status": "completed"
    },
    "tags": []
   },
   "outputs": [
    {
     "data": {
      "text/html": [
       "<div>\n",
       "<style scoped>\n",
       "    .dataframe tbody tr th:only-of-type {\n",
       "        vertical-align: middle;\n",
       "    }\n",
       "\n",
       "    .dataframe tbody tr th {\n",
       "        vertical-align: top;\n",
       "    }\n",
       "\n",
       "    .dataframe thead th {\n",
       "        text-align: right;\n",
       "    }\n",
       "</style>\n",
       "<table border=\"1\" class=\"dataframe\">\n",
       "  <thead>\n",
       "    <tr style=\"text-align: right;\">\n",
       "      <th></th>\n",
       "      <th>Temperature(°C)</th>\n",
       "      <th>Humidity(%)</th>\n",
       "      <th>Wind speed (m/s)</th>\n",
       "      <th>Visibility (10m)</th>\n",
       "      <th>Solar Radiation (MJ/m2)</th>\n",
       "      <th>Week Day_Friday</th>\n",
       "      <th>Week Day_Monday</th>\n",
       "      <th>Week Day_Saturday</th>\n",
       "      <th>Week Day_Sunday</th>\n",
       "      <th>Week Day_Thursday</th>\n",
       "      <th>...</th>\n",
       "      <th>Hour_16</th>\n",
       "      <th>Hour_17</th>\n",
       "      <th>Hour_18</th>\n",
       "      <th>Hour_19</th>\n",
       "      <th>Hour_20</th>\n",
       "      <th>Hour_21</th>\n",
       "      <th>Hour_22</th>\n",
       "      <th>Hour_23</th>\n",
       "      <th>Rain</th>\n",
       "      <th>Snow</th>\n",
       "    </tr>\n",
       "    <tr>\n",
       "      <th>ID</th>\n",
       "      <th></th>\n",
       "      <th></th>\n",
       "      <th></th>\n",
       "      <th></th>\n",
       "      <th></th>\n",
       "      <th></th>\n",
       "      <th></th>\n",
       "      <th></th>\n",
       "      <th></th>\n",
       "      <th></th>\n",
       "      <th></th>\n",
       "      <th></th>\n",
       "      <th></th>\n",
       "      <th></th>\n",
       "      <th></th>\n",
       "      <th></th>\n",
       "      <th></th>\n",
       "      <th></th>\n",
       "      <th></th>\n",
       "      <th></th>\n",
       "      <th></th>\n",
       "    </tr>\n",
       "  </thead>\n",
       "  <tbody>\n",
       "    <tr>\n",
       "      <th>0</th>\n",
       "      <td>-1.512755</td>\n",
       "      <td>-1.076788</td>\n",
       "      <td>0.454918</td>\n",
       "      <td>0.898365</td>\n",
       "      <td>-0.657945</td>\n",
       "      <td>0</td>\n",
       "      <td>0</td>\n",
       "      <td>0</td>\n",
       "      <td>0</td>\n",
       "      <td>1</td>\n",
       "      <td>...</td>\n",
       "      <td>0</td>\n",
       "      <td>0</td>\n",
       "      <td>0</td>\n",
       "      <td>0</td>\n",
       "      <td>0</td>\n",
       "      <td>0</td>\n",
       "      <td>0</td>\n",
       "      <td>0</td>\n",
       "      <td>0</td>\n",
       "      <td>0</td>\n",
       "    </tr>\n",
       "    <tr>\n",
       "      <th>1</th>\n",
       "      <td>-1.537963</td>\n",
       "      <td>-1.026381</td>\n",
       "      <td>-0.881205</td>\n",
       "      <td>0.898365</td>\n",
       "      <td>-0.657945</td>\n",
       "      <td>0</td>\n",
       "      <td>0</td>\n",
       "      <td>0</td>\n",
       "      <td>0</td>\n",
       "      <td>1</td>\n",
       "      <td>...</td>\n",
       "      <td>0</td>\n",
       "      <td>0</td>\n",
       "      <td>0</td>\n",
       "      <td>0</td>\n",
       "      <td>0</td>\n",
       "      <td>0</td>\n",
       "      <td>0</td>\n",
       "      <td>0</td>\n",
       "      <td>0</td>\n",
       "      <td>0</td>\n",
       "    </tr>\n",
       "    <tr>\n",
       "      <th>2</th>\n",
       "      <td>-1.579975</td>\n",
       "      <td>-0.975974</td>\n",
       "      <td>-0.690331</td>\n",
       "      <td>0.898365</td>\n",
       "      <td>-0.657945</td>\n",
       "      <td>0</td>\n",
       "      <td>0</td>\n",
       "      <td>0</td>\n",
       "      <td>0</td>\n",
       "      <td>1</td>\n",
       "      <td>...</td>\n",
       "      <td>0</td>\n",
       "      <td>0</td>\n",
       "      <td>0</td>\n",
       "      <td>0</td>\n",
       "      <td>0</td>\n",
       "      <td>0</td>\n",
       "      <td>0</td>\n",
       "      <td>0</td>\n",
       "      <td>0</td>\n",
       "      <td>0</td>\n",
       "    </tr>\n",
       "    <tr>\n",
       "      <th>3</th>\n",
       "      <td>-1.596780</td>\n",
       "      <td>-0.925567</td>\n",
       "      <td>-0.785768</td>\n",
       "      <td>0.898365</td>\n",
       "      <td>-0.657945</td>\n",
       "      <td>0</td>\n",
       "      <td>0</td>\n",
       "      <td>0</td>\n",
       "      <td>0</td>\n",
       "      <td>1</td>\n",
       "      <td>...</td>\n",
       "      <td>0</td>\n",
       "      <td>0</td>\n",
       "      <td>0</td>\n",
       "      <td>0</td>\n",
       "      <td>0</td>\n",
       "      <td>0</td>\n",
       "      <td>0</td>\n",
       "      <td>0</td>\n",
       "      <td>0</td>\n",
       "      <td>0</td>\n",
       "    </tr>\n",
       "    <tr>\n",
       "      <th>4</th>\n",
       "      <td>-1.579975</td>\n",
       "      <td>-1.127195</td>\n",
       "      <td>0.550356</td>\n",
       "      <td>0.898365</td>\n",
       "      <td>-0.657945</td>\n",
       "      <td>0</td>\n",
       "      <td>0</td>\n",
       "      <td>0</td>\n",
       "      <td>0</td>\n",
       "      <td>1</td>\n",
       "      <td>...</td>\n",
       "      <td>0</td>\n",
       "      <td>0</td>\n",
       "      <td>0</td>\n",
       "      <td>0</td>\n",
       "      <td>0</td>\n",
       "      <td>0</td>\n",
       "      <td>0</td>\n",
       "      <td>0</td>\n",
       "      <td>0</td>\n",
       "      <td>0</td>\n",
       "    </tr>\n",
       "  </tbody>\n",
       "</table>\n",
       "<p>5 rows × 58 columns</p>\n",
       "</div>"
      ],
      "text/plain": [
       "    Temperature(°C)  Humidity(%)  Wind speed (m/s)  Visibility (10m)  \\\n",
       "ID                                                                     \n",
       "0         -1.512755    -1.076788          0.454918          0.898365   \n",
       "1         -1.537963    -1.026381         -0.881205          0.898365   \n",
       "2         -1.579975    -0.975974         -0.690331          0.898365   \n",
       "3         -1.596780    -0.925567         -0.785768          0.898365   \n",
       "4         -1.579975    -1.127195          0.550356          0.898365   \n",
       "\n",
       "    Solar Radiation (MJ/m2)  Week Day_Friday  Week Day_Monday  \\\n",
       "ID                                                              \n",
       "0                 -0.657945                0                0   \n",
       "1                 -0.657945                0                0   \n",
       "2                 -0.657945                0                0   \n",
       "3                 -0.657945                0                0   \n",
       "4                 -0.657945                0                0   \n",
       "\n",
       "    Week Day_Saturday  Week Day_Sunday  Week Day_Thursday  ...  Hour_16  \\\n",
       "ID                                                         ...            \n",
       "0                   0                0                  1  ...        0   \n",
       "1                   0                0                  1  ...        0   \n",
       "2                   0                0                  1  ...        0   \n",
       "3                   0                0                  1  ...        0   \n",
       "4                   0                0                  1  ...        0   \n",
       "\n",
       "    Hour_17  Hour_18  Hour_19  Hour_20  Hour_21  Hour_22  Hour_23  Rain  Snow  \n",
       "ID                                                                             \n",
       "0         0        0        0        0        0        0        0     0     0  \n",
       "1         0        0        0        0        0        0        0     0     0  \n",
       "2         0        0        0        0        0        0        0     0     0  \n",
       "3         0        0        0        0        0        0        0     0     0  \n",
       "4         0        0        0        0        0        0        0     0     0  \n",
       "\n",
       "[5 rows x 58 columns]"
      ]
     },
     "execution_count": 18,
     "metadata": {},
     "output_type": "execute_result"
    }
   ],
   "source": [
    "df_train.head()"
   ]
  },
  {
   "cell_type": "code",
   "execution_count": 19,
   "id": "e260313d",
   "metadata": {
    "execution": {
     "iopub.execute_input": "2021-08-30T15:22:50.840288Z",
     "iopub.status.busy": "2021-08-30T15:22:50.839549Z",
     "iopub.status.idle": "2021-08-30T15:22:50.842406Z",
     "shell.execute_reply": "2021-08-30T15:22:50.841925Z",
     "shell.execute_reply.started": "2021-08-30T15:20:58.334404Z"
    },
    "papermill": {
     "duration": 0.049308,
     "end_time": "2021-08-30T15:22:50.842540",
     "exception": false,
     "start_time": "2021-08-30T15:22:50.793232",
     "status": "completed"
    },
    "tags": []
   },
   "outputs": [],
   "source": [
    "X_train = df_train\r\n",
    "y_train = df_train_target"
   ]
  },
  {
   "cell_type": "code",
   "execution_count": 20,
   "id": "45048b98",
   "metadata": {
    "execution": {
     "iopub.execute_input": "2021-08-30T15:22:50.933736Z",
     "iopub.status.busy": "2021-08-30T15:22:50.932907Z",
     "iopub.status.idle": "2021-08-30T15:22:50.936220Z",
     "shell.execute_reply": "2021-08-30T15:22:50.936712Z",
     "shell.execute_reply.started": "2021-08-30T15:20:58.348630Z"
    },
    "papermill": {
     "duration": 0.052506,
     "end_time": "2021-08-30T15:22:50.936874",
     "exception": false,
     "start_time": "2021-08-30T15:22:50.884368",
     "status": "completed"
    },
    "tags": []
   },
   "outputs": [
    {
     "data": {
      "text/plain": [
       "Index(['Temperature(°C)', 'Humidity(%)', 'Wind speed (m/s)',\n",
       "       'Visibility (10m)', 'Solar Radiation (MJ/m2)', 'Week Day_Friday',\n",
       "       'Week Day_Monday', 'Week Day_Saturday', 'Week Day_Sunday',\n",
       "       'Week Day_Thursday', 'Week Day_Tuesday', 'Week Day_Wednesday',\n",
       "       'Month_1', 'Month_2', 'Month_3', 'Month_4', 'Month_5', 'Month_6',\n",
       "       'Month_7', 'Month_8', 'Month_9', 'Month_10', 'Month_11', 'Month_12',\n",
       "       'Functioning Day_No', 'Functioning Day_Yes', 'Holiday_Holiday',\n",
       "       'Holiday_No Holiday', 'Seasons_Autumn', 'Seasons_Spring',\n",
       "       'Seasons_Summer', 'Seasons_Winter', 'Hour_0', 'Hour_1', 'Hour_2',\n",
       "       'Hour_3', 'Hour_4', 'Hour_5', 'Hour_6', 'Hour_7', 'Hour_8', 'Hour_9',\n",
       "       'Hour_10', 'Hour_11', 'Hour_12', 'Hour_13', 'Hour_14', 'Hour_15',\n",
       "       'Hour_16', 'Hour_17', 'Hour_18', 'Hour_19', 'Hour_20', 'Hour_21',\n",
       "       'Hour_22', 'Hour_23', 'Rain', 'Snow'],\n",
       "      dtype='object')"
      ]
     },
     "execution_count": 20,
     "metadata": {},
     "output_type": "execute_result"
    }
   ],
   "source": [
    "X_train.columns"
   ]
  },
  {
   "cell_type": "code",
   "execution_count": 21,
   "id": "01872dea",
   "metadata": {
    "execution": {
     "iopub.execute_input": "2021-08-30T15:22:51.024925Z",
     "iopub.status.busy": "2021-08-30T15:22:51.023822Z",
     "iopub.status.idle": "2021-08-30T15:22:51.029720Z",
     "shell.execute_reply": "2021-08-30T15:22:51.030181Z",
     "shell.execute_reply.started": "2021-08-30T15:20:58.363508Z"
    },
    "papermill": {
     "duration": 0.051327,
     "end_time": "2021-08-30T15:22:51.030346",
     "exception": false,
     "start_time": "2021-08-30T15:22:50.979019",
     "status": "completed"
    },
    "tags": []
   },
   "outputs": [],
   "source": [
    "dropped_columns = ['Holiday_Holiday', 'Seasons_Autumn', 'Seasons_Spring','Functioning Day_No']\r\n",
    "X_train = X_train.drop(dropped_columns,axis=1)"
   ]
  },
  {
   "cell_type": "code",
   "execution_count": 22,
   "id": "dd392014",
   "metadata": {
    "execution": {
     "iopub.execute_input": "2021-08-30T15:22:51.119683Z",
     "iopub.status.busy": "2021-08-30T15:22:51.118748Z",
     "iopub.status.idle": "2021-08-30T15:22:58.229707Z",
     "shell.execute_reply": "2021-08-30T15:22:58.229066Z",
     "shell.execute_reply.started": "2021-08-30T15:20:58.377181Z"
    },
    "papermill": {
     "duration": 7.156849,
     "end_time": "2021-08-30T15:22:58.229856",
     "exception": false,
     "start_time": "2021-08-30T15:22:51.073007",
     "status": "completed"
    },
    "tags": []
   },
   "outputs": [],
   "source": [
    "etr_model = ExtraTreesRegressor(n_jobs=-1,random_state=0,n_estimators=100,max_depth=70,min_samples_split=5,min_samples_leaf=3)\r\n",
    "cross_validation = cross_validate(etr_model,\r\n",
    "                                  X_train,\r\n",
    "                                  y_train,\r\n",
    "                                  n_jobs=-1,\r\n",
    "                                  cv=5,\r\n",
    "                                  scoring='neg_mean_squared_log_error')"
   ]
  },
  {
   "cell_type": "code",
   "execution_count": 23,
   "id": "fe471062",
   "metadata": {
    "execution": {
     "iopub.execute_input": "2021-08-30T15:22:58.322910Z",
     "iopub.status.busy": "2021-08-30T15:22:58.322195Z",
     "iopub.status.idle": "2021-08-30T15:22:58.325709Z",
     "shell.execute_reply": "2021-08-30T15:22:58.325085Z",
     "shell.execute_reply.started": "2021-08-30T15:21:04.901105Z"
    },
    "papermill": {
     "duration": 0.052573,
     "end_time": "2021-08-30T15:22:58.325846",
     "exception": false,
     "start_time": "2021-08-30T15:22:58.273273",
     "status": "completed"
    },
    "tags": []
   },
   "outputs": [
    {
     "data": {
      "text/plain": [
       "array([0.28106833, 0.85899504, 0.39819926, 0.22713618, 5.52934509])"
      ]
     },
     "execution_count": 23,
     "metadata": {},
     "output_type": "execute_result"
    }
   ],
   "source": [
    "-1 * cross_validation['test_score']"
   ]
  },
  {
   "cell_type": "code",
   "execution_count": 24,
   "id": "62f563c1",
   "metadata": {
    "execution": {
     "iopub.execute_input": "2021-08-30T15:22:58.414619Z",
     "iopub.status.busy": "2021-08-30T15:22:58.414001Z",
     "iopub.status.idle": "2021-08-30T15:22:59.684909Z",
     "shell.execute_reply": "2021-08-30T15:22:59.684194Z",
     "shell.execute_reply.started": "2021-08-30T15:21:04.912520Z"
    },
    "papermill": {
     "duration": 1.315886,
     "end_time": "2021-08-30T15:22:59.685058",
     "exception": false,
     "start_time": "2021-08-30T15:22:58.369172",
     "status": "completed"
    },
    "tags": []
   },
   "outputs": [],
   "source": [
    "etr_model.fit(X_train,y_train)\r\n",
    "y_pred = etr_model.predict(X_train)\r\n"
   ]
  },
  {
   "cell_type": "markdown",
   "id": "7a8638ef",
   "metadata": {
    "papermill": {
     "duration": 0.042118,
     "end_time": "2021-08-30T15:22:59.769920",
     "exception": false,
     "start_time": "2021-08-30T15:22:59.727802",
     "status": "completed"
    },
    "tags": []
   },
   "source": [
    "# Test Data"
   ]
  },
  {
   "cell_type": "code",
   "execution_count": 25,
   "id": "6c1223c2",
   "metadata": {
    "execution": {
     "iopub.execute_input": "2021-08-30T15:22:59.860274Z",
     "iopub.status.busy": "2021-08-30T15:22:59.859606Z",
     "iopub.status.idle": "2021-08-30T15:22:59.883258Z",
     "shell.execute_reply": "2021-08-30T15:22:59.883828Z",
     "shell.execute_reply.started": "2021-08-30T15:21:06.172243Z"
    },
    "papermill": {
     "duration": 0.071153,
     "end_time": "2021-08-30T15:22:59.884004",
     "exception": false,
     "start_time": "2021-08-30T15:22:59.812851",
     "status": "completed"
    },
    "tags": []
   },
   "outputs": [],
   "source": [
    "df_test = pd.read_csv('../input/seoul-bike-rental-ai-pro-iti/test.csv',index_col=\"ID\")"
   ]
  },
  {
   "cell_type": "code",
   "execution_count": 26,
   "id": "aeb39c17",
   "metadata": {
    "execution": {
     "iopub.execute_input": "2021-08-30T15:22:59.977459Z",
     "iopub.status.busy": "2021-08-30T15:22:59.975848Z",
     "iopub.status.idle": "2021-08-30T15:23:00.009126Z",
     "shell.execute_reply": "2021-08-30T15:23:00.008448Z",
     "shell.execute_reply.started": "2021-08-30T15:21:06.191402Z"
    },
    "papermill": {
     "duration": 0.080531,
     "end_time": "2021-08-30T15:23:00.009264",
     "exception": false,
     "start_time": "2021-08-30T15:22:59.928733",
     "status": "completed"
    },
    "tags": []
   },
   "outputs": [
    {
     "name": "stderr",
     "output_type": "stream",
     "text": [
      "/opt/conda/lib/python3.7/site-packages/ipykernel_launcher.py:11: SettingWithCopyWarning: \n",
      "A value is trying to be set on a copy of a slice from a DataFrame.\n",
      "Try using .loc[row_indexer,col_indexer] = value instead\n",
      "\n",
      "See the caveats in the documentation: https://pandas.pydata.org/pandas-docs/stable/user_guide/indexing.html#returning-a-view-versus-a-copy\n",
      "  # This is added back by InteractiveShellApp.init_path()\n",
      "/opt/conda/lib/python3.7/site-packages/ipykernel_launcher.py:12: SettingWithCopyWarning: \n",
      "A value is trying to be set on a copy of a slice from a DataFrame.\n",
      "Try using .loc[row_indexer,col_indexer] = value instead\n",
      "\n",
      "See the caveats in the documentation: https://pandas.pydata.org/pandas-docs/stable/user_guide/indexing.html#returning-a-view-versus-a-copy\n",
      "  if sys.path[0] == '':\n",
      "/opt/conda/lib/python3.7/site-packages/ipykernel_launcher.py:13: SettingWithCopyWarning: \n",
      "A value is trying to be set on a copy of a slice from a DataFrame.\n",
      "Try using .loc[row_indexer,col_indexer] = value instead\n",
      "\n",
      "See the caveats in the documentation: https://pandas.pydata.org/pandas-docs/stable/user_guide/indexing.html#returning-a-view-versus-a-copy\n",
      "  del sys.path[0]\n"
     ]
    }
   ],
   "source": [
    "df_test_cat,df_test_num = preprocess(df_test)"
   ]
  },
  {
   "cell_type": "code",
   "execution_count": 27,
   "id": "39ca2637",
   "metadata": {
    "execution": {
     "iopub.execute_input": "2021-08-30T15:23:00.103285Z",
     "iopub.status.busy": "2021-08-30T15:23:00.102504Z",
     "iopub.status.idle": "2021-08-30T15:23:00.106420Z",
     "shell.execute_reply": "2021-08-30T15:23:00.105793Z",
     "shell.execute_reply.started": "2021-08-30T15:21:06.226767Z"
    },
    "papermill": {
     "duration": 0.054156,
     "end_time": "2021-08-30T15:23:00.106552",
     "exception": false,
     "start_time": "2021-08-30T15:23:00.052396",
     "status": "completed"
    },
    "tags": []
   },
   "outputs": [],
   "source": [
    "df_numerical = scaler.transform(df_test_num)\r\n",
    "df_test_num = pd.DataFrame(df_numerical,columns=df_test_num.columns)\r\n",
    "df_test_num.index = df_test.index"
   ]
  },
  {
   "cell_type": "code",
   "execution_count": 28,
   "id": "c5bcbaad",
   "metadata": {
    "execution": {
     "iopub.execute_input": "2021-08-30T15:23:00.200231Z",
     "iopub.status.busy": "2021-08-30T15:23:00.199508Z",
     "iopub.status.idle": "2021-08-30T15:23:00.201861Z",
     "shell.execute_reply": "2021-08-30T15:23:00.202296Z",
     "shell.execute_reply.started": "2021-08-30T15:21:06.236956Z"
    },
    "papermill": {
     "duration": 0.051752,
     "end_time": "2021-08-30T15:23:00.202458",
     "exception": false,
     "start_time": "2021-08-30T15:23:00.150706",
     "status": "completed"
    },
    "tags": []
   },
   "outputs": [],
   "source": [
    "X_test = pd.concat([df_test_num,df_test_cat],axis=1)"
   ]
  },
  {
   "cell_type": "code",
   "execution_count": 29,
   "id": "25bd7db6",
   "metadata": {
    "execution": {
     "iopub.execute_input": "2021-08-30T15:23:00.292063Z",
     "iopub.status.busy": "2021-08-30T15:23:00.291417Z",
     "iopub.status.idle": "2021-08-30T15:23:00.296075Z",
     "shell.execute_reply": "2021-08-30T15:23:00.296505Z",
     "shell.execute_reply.started": "2021-08-30T15:21:06.248532Z"
    },
    "papermill": {
     "duration": 0.051062,
     "end_time": "2021-08-30T15:23:00.296745",
     "exception": false,
     "start_time": "2021-08-30T15:23:00.245683",
     "status": "completed"
    },
    "tags": []
   },
   "outputs": [],
   "source": [
    "X_test = X_test.drop(dropped_columns,axis=1)"
   ]
  },
  {
   "cell_type": "code",
   "execution_count": 30,
   "id": "542d0a99",
   "metadata": {
    "execution": {
     "iopub.execute_input": "2021-08-30T15:23:00.386318Z",
     "iopub.status.busy": "2021-08-30T15:23:00.385685Z",
     "iopub.status.idle": "2021-08-30T15:23:00.391013Z",
     "shell.execute_reply": "2021-08-30T15:23:00.391492Z",
     "shell.execute_reply.started": "2021-08-30T15:21:06.261970Z"
    },
    "papermill": {
     "duration": 0.051841,
     "end_time": "2021-08-30T15:23:00.391680",
     "exception": false,
     "start_time": "2021-08-30T15:23:00.339839",
     "status": "completed"
    },
    "tags": []
   },
   "outputs": [
    {
     "data": {
      "text/plain": [
       "Index(['Temperature(°C)', 'Humidity(%)', 'Wind speed (m/s)',\n",
       "       'Visibility (10m)', 'Solar Radiation (MJ/m2)', 'Week Day_Friday',\n",
       "       'Week Day_Monday', 'Week Day_Saturday', 'Week Day_Sunday',\n",
       "       'Week Day_Thursday', 'Week Day_Tuesday', 'Week Day_Wednesday',\n",
       "       'Month_1', 'Month_2', 'Month_3', 'Month_4', 'Month_5', 'Month_6',\n",
       "       'Month_7', 'Month_8', 'Month_9', 'Month_10', 'Month_11', 'Month_12',\n",
       "       'Functioning Day_Yes', 'Holiday_No Holiday', 'Seasons_Summer',\n",
       "       'Seasons_Winter', 'Hour_0', 'Hour_1', 'Hour_2', 'Hour_3', 'Hour_4',\n",
       "       'Hour_5', 'Hour_6', 'Hour_7', 'Hour_8', 'Hour_9', 'Hour_10', 'Hour_11',\n",
       "       'Hour_12', 'Hour_13', 'Hour_14', 'Hour_15', 'Hour_16', 'Hour_17',\n",
       "       'Hour_18', 'Hour_19', 'Hour_20', 'Hour_21', 'Hour_22', 'Hour_23',\n",
       "       'Rain', 'Snow'],\n",
       "      dtype='object')"
      ]
     },
     "execution_count": 30,
     "metadata": {},
     "output_type": "execute_result"
    }
   ],
   "source": [
    "X_test.columns"
   ]
  },
  {
   "cell_type": "code",
   "execution_count": 31,
   "id": "4039fb99",
   "metadata": {
    "execution": {
     "iopub.execute_input": "2021-08-30T15:23:00.487302Z",
     "iopub.status.busy": "2021-08-30T15:23:00.486541Z",
     "iopub.status.idle": "2021-08-30T15:23:00.628018Z",
     "shell.execute_reply": "2021-08-30T15:23:00.627306Z",
     "shell.execute_reply.started": "2021-08-30T15:21:06.277263Z"
    },
    "papermill": {
     "duration": 0.192619,
     "end_time": "2021-08-30T15:23:00.628158",
     "exception": false,
     "start_time": "2021-08-30T15:23:00.435539",
     "status": "completed"
    },
    "tags": []
   },
   "outputs": [],
   "source": [
    "y_pred = etr_model.predict(X_test)\r\n",
    "X_test['ID'] = X_test.index\r\n",
    "X_test['y'] = y_pred\r\n",
    "X_test.loc[X_test['Functioning Day_Yes']==0,'y']=0\r\n",
    "df_submit = X_test[['ID','y']]\r\n",
    "df_submit.to_csv('submission.csv', index=False)"
   ]
  }
 ],
 "metadata": {
  "kernelspec": {
   "display_name": "Python 3",
   "language": "python",
   "name": "python3"
  },
  "language_info": {
   "codemirror_mode": {
    "name": "ipython",
    "version": 3
   },
   "file_extension": ".py",
   "mimetype": "text/x-python",
   "name": "python",
   "nbconvert_exporter": "python",
   "pygments_lexer": "ipython3",
   "version": "3.7.10"
  },
  "papermill": {
   "default_parameters": {},
   "duration": 24.882025,
   "end_time": "2021-08-30T15:23:01.923209",
   "environment_variables": {},
   "exception": null,
   "input_path": "__notebook__.ipynb",
   "output_path": "__notebook__.ipynb",
   "parameters": {},
   "start_time": "2021-08-30T15:22:37.041184",
   "version": "2.3.3"
  }
 },
 "nbformat": 4,
 "nbformat_minor": 5
}
